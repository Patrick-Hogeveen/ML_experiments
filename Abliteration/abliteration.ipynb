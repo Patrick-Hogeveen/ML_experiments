{
 "cells": [
  {
   "cell_type": "code",
   "execution_count": 1,
   "metadata": {},
   "outputs": [
    {
     "name": "stderr",
     "output_type": "stream",
     "text": [
      "c:\\Python312\\Lib\\site-packages\\tqdm\\auto.py:21: TqdmWarning: IProgress not found. Please update jupyter and ipywidgets. See https://ipywidgets.readthedocs.io/en/stable/user_install.html\n",
      "  from .autonotebook import tqdm as notebook_tqdm\n"
     ]
    },
    {
     "data": {
      "text/plain": [
       "<torch.autograd.grad_mode.set_grad_enabled at 0x25cd810cbc0>"
      ]
     },
     "execution_count": 1,
     "metadata": {},
     "output_type": "execute_result"
    }
   ],
   "source": [
    "import torch\n",
    "import functools\n",
    "import einops\n",
    "import gc\n",
    "\n",
    "from datasets import load_dataset\n",
    "from tqdm import tqdm\n",
    "from torch import Tensor\n",
    "from typing import List\n",
    "from transformer_lens import HookedTransformer, utils\n",
    "from transformer_lens.hook_points import HookPoint\n",
    "from transformers import AutoModelForCausalLM, AutoTokenizer\n",
    "from jaxtyping import Float, Int\n",
    "from collections import defaultdict\n",
    "\n",
    "torch.set_grad_enabled(False)"
   ]
  },
  {
   "cell_type": "code",
   "execution_count": 2,
   "metadata": {},
   "outputs": [
    {
     "data": {
      "text/plain": [
       "True"
      ]
     },
     "execution_count": 2,
     "metadata": {},
     "output_type": "execute_result"
    }
   ],
   "source": [
    "torch.cuda.is_available()"
   ]
  },
  {
   "cell_type": "code",
   "execution_count": 3,
   "metadata": {},
   "outputs": [],
   "source": [
    "#Load and reformat dataset utils\n",
    "def reformat_texts(texts):\n",
    "    return [[{\"role\": \"user\", \"content\": text}] for text in texts]\n",
    "\n",
    "# Get harmful and harmless datasets\n",
    "def get_harmful_instructions():\n",
    "    dataset = load_dataset('mlabonne/harmful_behaviors')\n",
    "    return reformat_texts(dataset['train']['text']), reformat_texts(dataset['test']['text'])\n",
    "\n",
    "def get_harmless_instructions():\n",
    "    dataset = load_dataset('mlabonne/harmless_alpaca')\n",
    "    return reformat_texts(dataset['train']['text']), reformat_texts(dataset['test']['text'])\n",
    "\n",
    "harmful_inst_train, harmful_inst_test = get_harmful_instructions()\n",
    "harmless_inst_train, harmless_inst_test = get_harmless_instructions()"
   ]
  },
  {
   "cell_type": "code",
   "execution_count": 4,
   "metadata": {},
   "outputs": [
    {
     "name": "stderr",
     "output_type": "stream",
     "text": [
      "fatal: destination path 'microsoft/Phi-3-mini-4k-instruct' already exists and is not an empty directory.\n",
      "WARNING:transformers_modules.Phi-3-mini-4k-instruct.modeling_phi3:`flash-attention` package not found, consider installing for better performance: No module named 'flash_attn'.\n",
      "WARNING:transformers_modules.Phi-3-mini-4k-instruct.modeling_phi3:Current `flash-attention` does not support `window_size`. Either upgrade or use `attn_implementation='eager'`.\n",
      "Loading checkpoint shards: 100%|██████████| 2/2 [00:22<00:00, 11.33s/it]\n",
      "Special tokens have been added in the vocabulary, make sure the associated word embeddings are fine-tuned or trained.\n"
     ]
    },
    {
     "name": "stdout",
     "output_type": "stream",
     "text": [
      "Loaded pretrained model microsoft/Phi-3-mini-4k-instruct into HookedTransformer\n"
     ]
    },
    {
     "name": "stderr",
     "output_type": "stream",
     "text": [
      "Special tokens have been added in the vocabulary, make sure the associated word embeddings are fine-tuned or trained.\n"
     ]
    }
   ],
   "source": [
    "MODEL_ID = \"microsoft/Phi-3-mini-4k-instruct\"\n",
    "MODEL_TYPE = \"microsoft/Phi-3-mini-4k-instruct\"\n",
    "\n",
    "# Download and load model\n",
    "!git clone https://huggingface.co/{MODEL_ID} {MODEL_TYPE}\n",
    "\n",
    "# Load model and tokenizer\n",
    "model = HookedTransformer.from_pretrained_no_processing(\n",
    "    MODEL_TYPE,\n",
    "    local_files_only=True,\n",
    "    dtype=torch.bfloat16,\n",
    "    trust_remote_code=True,\n",
    "    default_padding_side='left'\n",
    ")\n",
    "tokenizer = AutoTokenizer.from_pretrained(MODEL_TYPE)\n",
    "tokenizer.padding_side = 'left'\n",
    "tokenizer.pad_token = tokenizer.eos_token"
   ]
  },
  {
   "cell_type": "code",
   "execution_count": 6,
   "metadata": {},
   "outputs": [],
   "source": [
    "def tokenize_instructions(tokenizer, instructions):\n",
    "    return tokenizer.apply_chat_template(\n",
    "        instructions,\n",
    "        padding=True,\n",
    "        truncation=False,\n",
    "        return_tensors=\"pt\",\n",
    "        return_dict=True,\n",
    "        add_generation_prompt=True,\n",
    "    ).input_ids\n",
    "\n",
    "n_inst_train = min(64, len(harmful_inst_train), len(harmless_inst_train))\n",
    "\n",
    "# Tokenize datasets\n",
    "harmful_tokens = tokenize_instructions(\n",
    "    tokenizer,\n",
    "    instructions=harmful_inst_train[:n_inst_train],\n",
    ")\n",
    "harmless_tokens = tokenize_instructions(\n",
    "    tokenizer,\n",
    "    instructions=harmless_inst_train[:n_inst_train],\n",
    ")"
   ]
  },
  {
   "cell_type": "code",
   "execution_count": 7,
   "metadata": {},
   "outputs": [
    {
     "name": "stderr",
     "output_type": "stream",
     "text": [
      "  0%|          | 0/1 [00:00<?, ?it/s]"
     ]
    },
    {
     "name": "stdout",
     "output_type": "stream",
     "text": [
      "0\n"
     ]
    }
   ],
   "source": [
    "# Define batch size based on available VRAM\n",
    "#increase to speed up training speed?\n",
    "batch_size = 64\n",
    "\n",
    "# Initialize defaultdicts to store activations\n",
    "harmful = defaultdict(list)\n",
    "harmless = defaultdict(list)\n",
    "\n",
    "# Process the training data in batches\n",
    "num_batches = (n_inst_train + batch_size - 1) // batch_size\n",
    "for i in tqdm(range(num_batches)):\n",
    "    print(i)\n",
    "    start_idx = i * batch_size\n",
    "    end_idx = min(n_inst_train, start_idx + batch_size)\n",
    "\n",
    "    # Run models on harmful and harmless prompts, cache activations\n",
    "    harmful_logits, harmful_cache = model.run_with_cache(\n",
    "        harmful_tokens[start_idx:end_idx],\n",
    "        names_filter=lambda hook_name: 'resid' in hook_name,\n",
    "        device='cuda',\n",
    "        reset_hooks_end=True\n",
    "    )\n",
    "    harmless_logits, harmless_cache = model.run_with_cache(\n",
    "        harmless_tokens[start_idx:end_idx],\n",
    "        names_filter=lambda hook_name: 'resid' in hook_name,\n",
    "        device='cuda',\n",
    "        reset_hooks_end=True\n",
    "    )\n",
    "\n",
    "    # Collect and store the activations\n",
    "    for key in harmful_cache:\n",
    "        harmful[key].append(harmful_cache[key])\n",
    "        harmless[key].append(harmless_cache[key])\n",
    "\n",
    "    # Flush RAM and VRAM\n",
    "    del harmful_logits, harmless_logits, harmful_cache, harmless_cache\n",
    "    gc.collect()\n",
    "    torch.cuda.empty_cache()\n",
    "\n",
    "# Concatenate the cached activations\n",
    "harmful = {k: torch.cat(v) for k, v in harmful.items()}\n",
    "harmless = {k: torch.cat(v) for k, v in harmless.items()}"
   ]
  }
 ],
 "metadata": {
  "kernelspec": {
   "display_name": "Python 3",
   "language": "python",
   "name": "python3"
  },
  "language_info": {
   "codemirror_mode": {
    "name": "ipython",
    "version": 3
   },
   "file_extension": ".py",
   "mimetype": "text/x-python",
   "name": "python",
   "nbconvert_exporter": "python",
   "pygments_lexer": "ipython3",
   "version": "3.12.3"
  }
 },
 "nbformat": 4,
 "nbformat_minor": 2
}
