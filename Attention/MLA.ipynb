{
 "cells": [
  {
   "cell_type": "code",
   "execution_count": 1,
   "metadata": {},
   "outputs": [],
   "source": [
    "import numpy as np\n",
    "import torch\n",
    "import torch.nn as nn\n",
    "import torch.nn.functional as F\n",
    "import torch.optim as optim\n",
    "from collections import Counter\n",
    "import matplotlib.pyplot as plt\n",
    "\n",
    "device = torch.device(\"cuda\" if torch.cuda.is_available() else \"cpu\")\n",
    "\n",
    "torch.manual_seed(1337)\n",
    "\n",
    "eval_iters = 200\n",
    "n_embd = 384\n",
    "n_head = 6\n",
    "n_layer = 6\n",
    "dropout = 0.2\n",
    "batch_size = 64 # how many independent sequences will we process in parallel?\n",
    "block_size = 50 # what is the maximum context length for predictions?\n",
    "max_iters = 5000\n",
    "eval_interval = 500\n",
    "learning_rate = 3e-4"
   ]
  },
  {
   "cell_type": "code",
   "execution_count": 2,
   "metadata": {},
   "outputs": [],
   "source": [
    "class scaledDotProduct(nn.Module):\n",
    "    '''\n",
    "        Attention(Q, K, V ) = softmax( QK^T/√d_k)V \n",
    "    \n",
    "    '''\n",
    "    #Takes number of embedded, head_size, context length\n",
    "    def __init__(self, embn, hdim, con_l,  drop=0.0):\n",
    "\n",
    "        super(scaledDotProduct, self).__init__()\n",
    "        #dim is (d_k) when sqrt'd it is meant to counter small gradients in large sets of queries and keys\n",
    "        self.k = nn.Linear(embn, hdim, bias=False)\n",
    "        self.q = nn.Linear(embn, hdim, bias=False)\n",
    "        self.v = nn.Linear(embn, hdim, bias=False)\n",
    "        self.d_k = np.sqrt(hdim)\n",
    "        self.hdim = hdim\n",
    "        self.block_size = con_l\n",
    "        \n",
    "\n",
    "        self.k_cache = torch.zeros((batch_size, self.block_size,self.hdim))\n",
    "        self.v_cache = torch.zeros((batch_size, self.block_size,self.hdim))\n",
    "        self.cache_index = 0\n",
    "\n",
    "        self.register_buffer('mask', torch.tril(torch.ones(con_l,con_l)))\n",
    "        #Simple drop out \n",
    "        self.drop = nn.Dropout(drop)\n",
    "\n",
    "    def forward(self, x, ret_att=False):\n",
    "        #batch X length X dim\n",
    "        B,T,C = x.shape\n",
    "        k = self.k(x)\n",
    "        q = self.q(x)\n",
    "        v = self.v(x)\n",
    "\n",
    "        #if self.k_cache is None or self.v_cache is None:\n",
    "        #    self.k_cache = torch.zeros(B,self.block_size, self.hdim, device=x.device)\n",
    "        #    self.v_cache = torch.zeros(B,self.block_size, self.hdim, device=x.device)\n",
    "        #    self.cache_index = 0\n",
    "        self.k_cache = self.k_cache.to(x.device)\n",
    "        self.v_cache = self.v_cache.to(x.device)\n",
    "        if self.cache_index + T <= self.block_size:\n",
    "            self.k_cache[:B, self.cache_index:self.cache_index + T, :] = k\n",
    "            self.v_cache[:B, self.cache_index:self.cache_index + T, :] = v\n",
    "        else:\n",
    "            # shift the tokens one step back\n",
    "            shift = self.cache_index + T - block_size # Shift will always be 1\n",
    "            self.k_cache[:B, :-shift, :] = self.k_cache[:, shift:, :].clone()\n",
    "            self.v_cache[:B, :-shift, :] = self.v_cache[:, shift:, :].clone()\n",
    "            self.k_cache[:B, -T:, :] = k\n",
    "            self.v_cache[:B, -T:, :] = v\n",
    "\n",
    "        self.cache_index = min(self.cache_index + T, self.block_size)\n",
    "\n",
    "        \n",
    "        n = torch.matmul(q, self.k_cache[:B,:,:].transpose(-2,-1)) * k.shape[-1]**-0.5 #BxTxhdim\n",
    "        n = n.masked_fill(self.mask[:T,:T]==0, float('-inf'))\n",
    "        #Drop out referenced later in paper but not in original diagram\n",
    "        att = self.drop(F.softmax(n, dim=-1))\n",
    "\n",
    "        \n",
    "\n",
    "        out = torch.matmul(att, self.v_cache[:B,:,:])\n",
    "        if ret_att:\n",
    "            return out, att \n",
    "        return out\n",
    "        \n",
    "        \n"
   ]
  },
  {
   "cell_type": "code",
   "execution_count": 3,
   "metadata": {},
   "outputs": [
    {
     "data": {
      "text/plain": [
       "tensor([[[ 7.3799e-02, -2.1080e-01, -1.6968e-01,  ...,  1.2158e-01,\n",
       "           1.4039e-01, -7.1718e-02],\n",
       "         [-4.0966e-02, -2.2383e-01, -2.5205e-02,  ...,  1.3851e-01,\n",
       "           1.0924e-01,  2.6803e-02],\n",
       "         [ 3.7568e-05, -1.2587e-01,  4.2005e-02,  ...,  8.6697e-02,\n",
       "           1.0704e-01,  3.7151e-02],\n",
       "         ...,\n",
       "         [-4.2986e-02, -5.4267e-02,  5.2033e-02,  ..., -2.0862e-02,\n",
       "           1.0813e-01,  9.0752e-02],\n",
       "         [-4.1764e-02, -5.5534e-02,  5.1420e-02,  ..., -2.3993e-02,\n",
       "           1.0773e-01,  9.0928e-02],\n",
       "         [-4.1788e-02, -5.7114e-02,  5.0740e-02,  ..., -1.7963e-02,\n",
       "           1.0715e-01,  8.8348e-02]],\n",
       "\n",
       "        [[ 1.4407e-01, -1.0904e-01,  4.4700e-01,  ...,  8.7784e-02,\n",
       "          -7.3098e-02,  2.7388e-02],\n",
       "         [ 2.1906e-01,  4.2942e-04,  5.2665e-01,  ...,  7.0088e-02,\n",
       "          -7.9570e-02,  2.4258e-01],\n",
       "         [ 1.3485e-01, -1.5217e-02,  3.5493e-01,  ...,  5.0866e-02,\n",
       "          -1.5452e-02,  1.7811e-01],\n",
       "         ...,\n",
       "         [-3.9585e-02, -5.3983e-02,  6.3856e-02,  ..., -1.4868e-02,\n",
       "           5.2967e-02,  1.3216e-01],\n",
       "         [-3.8768e-02, -5.7416e-02,  6.3590e-02,  ..., -1.3858e-02,\n",
       "           5.6167e-02,  1.3094e-01],\n",
       "         [-3.8107e-02, -5.9228e-02,  6.1347e-02,  ..., -1.6364e-02,\n",
       "           5.6047e-02,  1.3309e-01]]], grad_fn=<UnsafeViewBackward0>)"
      ]
     },
     "execution_count": 3,
     "metadata": {},
     "output_type": "execute_result"
    }
   ],
   "source": [
    "attention_test = scaledDotProduct(384,10,100)\n",
    "#\n",
    "v2 = torch.rand(2,100,384)\n",
    "\n",
    "attention_test(v2)"
   ]
  },
  {
   "cell_type": "code",
   "execution_count": 4,
   "metadata": {},
   "outputs": [],
   "source": [
    "class multiHeadedAttention(nn.Module):\n",
    "    def __init__(self, n_heads, dims, embn, con_l, dropout=0.0):\n",
    "        super(multiHeadedAttention, self).__init__()\n",
    "        #d_k=d_v = dims/h\n",
    "\n",
    "        self.n_heads = n_heads\n",
    "\n",
    "        self.attn = nn.ModuleList([scaledDotProduct(embn, dims, con_l) for _ in range(n_heads)])\n",
    "        #Final linear layer after concat and attention\n",
    "        self.fc = nn.Linear(n_heads*dims, embn)\n",
    "\n",
    "        self.drop = nn.Dropout(dropout)\n",
    "        \n",
    "\n",
    "    def forward(self, x):\n",
    "        out = torch.cat([h(x) for h in self.attn], dim=-1)\n",
    "        out = self.drop(self.fc(out))\n",
    "        return out"
   ]
  },
  {
   "cell_type": "code",
   "execution_count": 5,
   "metadata": {},
   "outputs": [
    {
     "name": "stdout",
     "output_type": "stream",
     "text": [
      "tensor([[[-0.1094,  0.3953, -0.0000,  ..., -0.0000,  0.2078, -0.0762],\n",
      "         [-0.0667,  0.3789, -0.0155,  ..., -0.2896,  0.0174,  0.0112],\n",
      "         [-0.0823,  0.3302,  0.0112,  ..., -0.2928, -0.0329,  0.0370],\n",
      "         ...,\n",
      "         [-0.0032,  0.2465,  0.0285,  ..., -0.2252, -0.0884,  0.0711],\n",
      "         [-0.0000,  0.2461,  0.0000,  ..., -0.0000, -0.0877,  0.0000],\n",
      "         [-0.0000,  0.2464,  0.0287,  ..., -0.2257, -0.0000,  0.0698]]],\n",
      "       grad_fn=<MulBackward0>)\n"
     ]
    }
   ],
   "source": [
    "#heads, d_model, d_km d_v as per the paper\n",
    "torch.manual_seed(1337)\n",
    "multiHead = multiHeadedAttention(6, 50, 384, 512, dropout=0.2)\n",
    "\n",
    "#batches, dims, dimensionalityxn_heads\n",
    "\n",
    "v = torch.rand(1,512,384)\n",
    "\n",
    "\n",
    "print(multiHead(v))"
   ]
  },
  {
   "cell_type": "code",
   "execution_count": 6,
   "metadata": {},
   "outputs": [],
   "source": [
    "class positionFeedFoward(nn.Module):\n",
    "    def __init__(self, inp, hid, drop=0.0):\n",
    "        super(positionFeedFoward, self).__init__()\n",
    "        self.w1 = nn.Linear(inp,4*hid)\n",
    "        self.w2 = nn.Linear(4*hid,inp)\n",
    "        self.drop = nn.Dropout(drop)\n",
    "\n",
    "    def forward(self, x):\n",
    "\n",
    "        x = self.w2(F.relu(self.w1(x)))\n",
    "        x = self.drop(x)\n",
    "\n",
    "        return x"
   ]
  },
  {
   "cell_type": "code",
   "execution_count": 7,
   "metadata": {},
   "outputs": [],
   "source": [
    "class Decoder(nn.Module):\n",
    "    '''Combinds MultiHeadedAttention and FeeForward, three layers'''\n",
    "    def __init__(self, nheads, embn, con_l,  drop=0.0):\n",
    "        super(Decoder, self).__init__()\n",
    "        head_size = embn // nheads\n",
    "        self.slf_attn = multiHeadedAttention(nheads, head_size,embn, con_l,  dropout=drop)\n",
    "        \n",
    "        self.ffn = positionFeedFoward(embn, embn, drop=drop)\n",
    "\n",
    "        self.norm1 = nn.LayerNorm(embn)\n",
    "        self.norm2 = nn.LayerNorm(embn)\n",
    "\n",
    "    def forward(self, x):\n",
    "        tet = self.slf_attn(self.norm1(x))\n",
    "        x = x + self.slf_attn(self.norm1(x))\n",
    "        x = x + self.ffn(self.norm2(x))\n",
    "\n",
    "        return x"
   ]
  },
  {
   "cell_type": "code",
   "execution_count": 8,
   "metadata": {},
   "outputs": [
    {
     "name": "stdout",
     "output_type": "stream",
     "text": [
      "tensor([[[-0.1094,  0.3953, -0.0000,  ..., -0.0000,  0.2078, -0.0762],\n",
      "         [-0.0667,  0.3789, -0.0155,  ..., -0.2896,  0.0174,  0.0112],\n",
      "         [-0.0823,  0.3302,  0.0112,  ..., -0.2928, -0.0329,  0.0370],\n",
      "         ...,\n",
      "         [-0.0032,  0.2465,  0.0285,  ..., -0.2252, -0.0884,  0.0711],\n",
      "         [-0.0000,  0.2461,  0.0000,  ..., -0.0000, -0.0877,  0.0000],\n",
      "         [-0.0000,  0.2464,  0.0287,  ..., -0.2257, -0.0000,  0.0698]]],\n",
      "       grad_fn=<MulBackward0>)\n"
     ]
    }
   ],
   "source": [
    "\n",
    "#heads, d_model, d_km d_v as per the paper\n",
    "torch.manual_seed(1337)\n",
    "multiHead = multiHeadedAttention(6, 50, 384, 512, dropout=0.2)\n",
    "\n",
    "#batches, dims, dimensionalityxn_heads\n",
    "\n",
    "v = torch.rand(1,512,384)\n",
    "\n",
    "\n",
    "print(multiHead(v))"
   ]
  },
  {
   "cell_type": "code",
   "execution_count": 9,
   "metadata": {},
   "outputs": [],
   "source": [
    "#Pytoch version adapted from here https://pub.aimind.so/creating-sinusoidal-positional-embedding-from-scratch-in-pytorch-98c49e153d6\n",
    "\n",
    "class PosEncoding(nn.Module):\n",
    "    def __init__(self, hid, n_pos=200):\n",
    "        super(PosEncoding, self).__init__()\n",
    "\n",
    "        self.register_buffer('pos_table', self._get_sinusoid_encoding_table(n_pos, hid))\n",
    "\n",
    "    def _get_sinusoid_encoding_table(self, n_pos, hid):\n",
    "\n",
    "        if hid %2 != 0:\n",
    "            raise ValueError(\"Sinusoidal positional embedding cannot apply to odd token embedding dim={}\".format(hid))\n",
    "        \n",
    "        positions = torch.arange(0,n_pos).unsqueeze_(1)\n",
    "        embeds = torch.zeros(n_pos, hid)\n",
    "\n",
    "        denom = torch.pow(10000, 2 * torch.arange(0, hid//2)/2)\n",
    "        embeds[:, 0::2] = torch.sin(positions/denom)\n",
    "        embeds[:, 1::2] = torch.cos(positions/denom)\n",
    "        embeds = embeds.unsqueeze(0)\n",
    "\n",
    "        return embeds\n",
    "    \n",
    "    def forward(self, x):\n",
    "        return x + self.pos_table[:, :x.size(1)].clone().detach()"
   ]
  },
  {
   "cell_type": "code",
   "execution_count": 10,
   "metadata": {},
   "outputs": [],
   "source": [
    "class languageModel(nn.Module):\n",
    "    '''Decoder model'''\n",
    "    def __init__(\n",
    "            self, n_vocab, embn, n_layers, n_head,  dropout=0.2 , con_l=200\n",
    "    ):\n",
    "        super(languageModel, self).__init__()\n",
    "        self.con_l = con_l\n",
    "        self.word_emb = nn.Embedding(n_vocab, embn)\n",
    "        self.pos_enc = nn.Embedding(con_l, embn)\n",
    "        self.stack = nn.Sequential(\n",
    "            *[Decoder( n_head, embn, con_l,  drop=dropout) for _ in range(n_layers)]\n",
    "        )\n",
    "       \n",
    "        self.layer_norm = nn.LayerNorm(embn)\n",
    "        self.fc = nn.Linear(embn, n_vocab)\n",
    "\n",
    "        self.apply(self._init_weights)\n",
    "\n",
    "    def _init_weights(self, module):\n",
    "        if isinstance(module, nn.Linear):\n",
    "            torch.nn.init.normal_(module.weight, mean=0.0, std=0.02)\n",
    "            if module.bias is not None:\n",
    "                torch.nn.init.zeros_(module.bias)\n",
    "        elif isinstance(module, nn.Embedding):\n",
    "            torch.nn.init.normal_(module.weight, mean=0.0, std=0.02)\n",
    "\n",
    "    def forward(self, x, tar=None):\n",
    "        #batch, time\n",
    "        B, T = x.shape\n",
    "\n",
    "        tok = self.word_emb(x)\n",
    "        pos = self.pos_enc(torch.arange(T, device=device))\n",
    "        x = tok + pos\n",
    "        x = self.stack(x)\n",
    "        x = self.layer_norm(x)\n",
    "        logits = self.fc(x)\n",
    "\n",
    "        if tar is None:\n",
    "            loss = None\n",
    "        else:\n",
    "            B, T, C = logits.shape\n",
    "            logits = logits.view(B*T, C)\n",
    "            tar = tar.view(B*T)\n",
    "            loss = F.cross_entropy(logits, tar)\n",
    "\n",
    "        return logits, loss\n",
    "    \n",
    "    def generate(self, x, max_length):\n",
    "        #x is a BxT array of in current context\n",
    "        for _ in range(max_length):\n",
    "            x_cond = x[:, -self.con_l:]\n",
    "            logits, loss = self(x_cond)\n",
    "            logits = logits[:,-1,:]\n",
    "            probs = F.softmax(logits, dim=-1)\n",
    "            x_next = torch.multinomial(probs, num_samples=1)\n",
    "            x = torch.cat((x, x_next), dim=1)\n",
    "\n",
    "        return x"
   ]
  },
  {
   "cell_type": "code",
   "execution_count": 11,
   "metadata": {},
   "outputs": [],
   "source": [
    "# wget https://raw.githubusercontent.com/karpathy/char-rnn/master/data/tinyshakespeare/input.txt\n",
    "with open('input.txt', 'r', encoding='utf-8') as f:\n",
    "    text = f.read()\n",
    "\n",
    "torch.manual_seed(1337)\n",
    "\n",
    "# here are all the unique characters that occur in this text\n",
    "chars = sorted(list(set(text)))\n",
    "vocab_size = len(chars)\n",
    "# create a mapping from characters to integers\n",
    "stoi = { ch:i for i,ch in enumerate(chars) }\n",
    "itos = { i:ch for i,ch in enumerate(chars) }\n",
    "encode = lambda s: [stoi[c] for c in s] # encoder: take a string, output a list of integers\n",
    "decode = lambda l: ''.join([itos[i] for i in l]) # decoder: take a list of integers, output a string\n",
    "\n",
    "# Train and test splits\n",
    "data = torch.tensor(encode(text), dtype=torch.long)\n",
    "n = int(0.9*len(data)) # first 90% will be train, rest val\n",
    "train_data = data[:n]\n",
    "val_data = data[n:]\n",
    "\n",
    "\n",
    "# data loading\n",
    "def get_batch(split):\n",
    "    # generate a small batch of data of inputs x and targets y\n",
    "    data = train_data if split == 'train' else val_data\n",
    "    ix = torch.randint(len(data) - block_size, (batch_size,))\n",
    "    x = torch.stack([data[i:i+block_size] for i in ix])\n",
    "    y = torch.stack([data[i+1:i+block_size+1] for i in ix])\n",
    "    x, y = x.to(device), y.to(device)\n",
    "    return x, y\n",
    "\n",
    "@torch.no_grad()\n",
    "def estimate_loss(model):\n",
    "    out = {}\n",
    "    model.eval()\n",
    "    for split in ['train', 'val']:\n",
    "        losses = torch.zeros(eval_iters)\n",
    "        for k in range(eval_iters):\n",
    "            X, Y = get_batch(split)\n",
    "            logits = model(X)[0]\n",
    "            B, T, C = logits.shape\n",
    "            logits = logits.view(B*T, C)\n",
    "            targets = Y.view(B*T)\n",
    "            loss = F.cross_entropy(logits, targets)\n",
    "            losses[k] = loss.item()\n",
    "        out[split] = losses.mean()\n",
    "    model.train()\n",
    "    return out"
   ]
  },
  {
   "cell_type": "code",
   "execution_count": 12,
   "metadata": {},
   "outputs": [
    {
     "name": "stdout",
     "output_type": "stream",
     "text": [
      "65\n"
     ]
    }
   ],
   "source": [
    "print(vocab_size)"
   ]
  },
  {
   "cell_type": "code",
   "execution_count": 13,
   "metadata": {},
   "outputs": [
    {
     "name": "stdout",
     "output_type": "stream",
     "text": [
      "True\n",
      "step 0: train loss 4.2128, val loss 4.2117\n"
     ]
    },
    {
     "ename": "RuntimeError",
     "evalue": "Trying to backward through the graph a second time (or directly access saved tensors after they have already been freed). Saved intermediate values of the graph are freed when you call .backward() or autograd.grad(). Specify retain_graph=True if you need to backward through the graph a second time or if you need to access saved tensors after calling backward.",
     "output_type": "error",
     "traceback": [
      "\u001b[0;31m---------------------------------------------------------------------------\u001b[0m",
      "\u001b[0;31mRuntimeError\u001b[0m                              Traceback (most recent call last)",
      "Cell \u001b[0;32mIn[13], line 27\u001b[0m\n\u001b[1;32m     22\u001b[0m     \u001b[38;5;66;03m#B, T, C = logits.shape\u001b[39;00m\n\u001b[1;32m     23\u001b[0m     \u001b[38;5;66;03m#logits = logits.view(B*T, C)\u001b[39;00m\n\u001b[1;32m     24\u001b[0m     \u001b[38;5;66;03m#targets = yb.view(B*T)\u001b[39;00m\n\u001b[1;32m     25\u001b[0m     \u001b[38;5;66;03m#loss = F.cross_entropy(logits, targets)\u001b[39;00m\n\u001b[1;32m     26\u001b[0m     optimizer\u001b[38;5;241m.\u001b[39mzero_grad(set_to_none\u001b[38;5;241m=\u001b[39m\u001b[38;5;28;01mTrue\u001b[39;00m)\n\u001b[0;32m---> 27\u001b[0m     \u001b[43mloss\u001b[49m\u001b[38;5;241;43m.\u001b[39;49m\u001b[43mbackward\u001b[49m\u001b[43m(\u001b[49m\u001b[43m)\u001b[49m\n\u001b[1;32m     28\u001b[0m     optimizer\u001b[38;5;241m.\u001b[39mstep()\n\u001b[1;32m     30\u001b[0m \u001b[38;5;66;03m# generate from the model\u001b[39;00m\n",
      "File \u001b[0;32m~/.local/lib/python3.10/site-packages/torch/_tensor.py:626\u001b[0m, in \u001b[0;36mTensor.backward\u001b[0;34m(self, gradient, retain_graph, create_graph, inputs)\u001b[0m\n\u001b[1;32m    616\u001b[0m \u001b[38;5;28;01mif\u001b[39;00m has_torch_function_unary(\u001b[38;5;28mself\u001b[39m):\n\u001b[1;32m    617\u001b[0m     \u001b[38;5;28;01mreturn\u001b[39;00m handle_torch_function(\n\u001b[1;32m    618\u001b[0m         Tensor\u001b[38;5;241m.\u001b[39mbackward,\n\u001b[1;32m    619\u001b[0m         (\u001b[38;5;28mself\u001b[39m,),\n\u001b[0;32m   (...)\u001b[0m\n\u001b[1;32m    624\u001b[0m         inputs\u001b[38;5;241m=\u001b[39minputs,\n\u001b[1;32m    625\u001b[0m     )\n\u001b[0;32m--> 626\u001b[0m \u001b[43mtorch\u001b[49m\u001b[38;5;241;43m.\u001b[39;49m\u001b[43mautograd\u001b[49m\u001b[38;5;241;43m.\u001b[39;49m\u001b[43mbackward\u001b[49m\u001b[43m(\u001b[49m\n\u001b[1;32m    627\u001b[0m \u001b[43m    \u001b[49m\u001b[38;5;28;43mself\u001b[39;49m\u001b[43m,\u001b[49m\u001b[43m \u001b[49m\u001b[43mgradient\u001b[49m\u001b[43m,\u001b[49m\u001b[43m \u001b[49m\u001b[43mretain_graph\u001b[49m\u001b[43m,\u001b[49m\u001b[43m \u001b[49m\u001b[43mcreate_graph\u001b[49m\u001b[43m,\u001b[49m\u001b[43m \u001b[49m\u001b[43minputs\u001b[49m\u001b[38;5;241;43m=\u001b[39;49m\u001b[43minputs\u001b[49m\n\u001b[1;32m    628\u001b[0m \u001b[43m\u001b[49m\u001b[43m)\u001b[49m\n",
      "File \u001b[0;32m~/.local/lib/python3.10/site-packages/torch/autograd/__init__.py:347\u001b[0m, in \u001b[0;36mbackward\u001b[0;34m(tensors, grad_tensors, retain_graph, create_graph, grad_variables, inputs)\u001b[0m\n\u001b[1;32m    342\u001b[0m     retain_graph \u001b[38;5;241m=\u001b[39m create_graph\n\u001b[1;32m    344\u001b[0m \u001b[38;5;66;03m# The reason we repeat the same comment below is that\u001b[39;00m\n\u001b[1;32m    345\u001b[0m \u001b[38;5;66;03m# some Python versions print out the first line of a multi-line function\u001b[39;00m\n\u001b[1;32m    346\u001b[0m \u001b[38;5;66;03m# calls in the traceback and some print out the last line\u001b[39;00m\n\u001b[0;32m--> 347\u001b[0m \u001b[43m_engine_run_backward\u001b[49m\u001b[43m(\u001b[49m\n\u001b[1;32m    348\u001b[0m \u001b[43m    \u001b[49m\u001b[43mtensors\u001b[49m\u001b[43m,\u001b[49m\n\u001b[1;32m    349\u001b[0m \u001b[43m    \u001b[49m\u001b[43mgrad_tensors_\u001b[49m\u001b[43m,\u001b[49m\n\u001b[1;32m    350\u001b[0m \u001b[43m    \u001b[49m\u001b[43mretain_graph\u001b[49m\u001b[43m,\u001b[49m\n\u001b[1;32m    351\u001b[0m \u001b[43m    \u001b[49m\u001b[43mcreate_graph\u001b[49m\u001b[43m,\u001b[49m\n\u001b[1;32m    352\u001b[0m \u001b[43m    \u001b[49m\u001b[43minputs\u001b[49m\u001b[43m,\u001b[49m\n\u001b[1;32m    353\u001b[0m \u001b[43m    \u001b[49m\u001b[43mallow_unreachable\u001b[49m\u001b[38;5;241;43m=\u001b[39;49m\u001b[38;5;28;43;01mTrue\u001b[39;49;00m\u001b[43m,\u001b[49m\n\u001b[1;32m    354\u001b[0m \u001b[43m    \u001b[49m\u001b[43maccumulate_grad\u001b[49m\u001b[38;5;241;43m=\u001b[39;49m\u001b[38;5;28;43;01mTrue\u001b[39;49;00m\u001b[43m,\u001b[49m\n\u001b[1;32m    355\u001b[0m \u001b[43m\u001b[49m\u001b[43m)\u001b[49m\n",
      "File \u001b[0;32m~/.local/lib/python3.10/site-packages/torch/autograd/graph.py:823\u001b[0m, in \u001b[0;36m_engine_run_backward\u001b[0;34m(t_outputs, *args, **kwargs)\u001b[0m\n\u001b[1;32m    821\u001b[0m     unregister_hooks \u001b[38;5;241m=\u001b[39m _register_logging_hooks_on_whole_graph(t_outputs)\n\u001b[1;32m    822\u001b[0m \u001b[38;5;28;01mtry\u001b[39;00m:\n\u001b[0;32m--> 823\u001b[0m     \u001b[38;5;28;01mreturn\u001b[39;00m \u001b[43mVariable\u001b[49m\u001b[38;5;241;43m.\u001b[39;49m\u001b[43m_execution_engine\u001b[49m\u001b[38;5;241;43m.\u001b[39;49m\u001b[43mrun_backward\u001b[49m\u001b[43m(\u001b[49m\u001b[43m  \u001b[49m\u001b[38;5;66;43;03m# Calls into the C++ engine to run the backward pass\u001b[39;49;00m\n\u001b[1;32m    824\u001b[0m \u001b[43m        \u001b[49m\u001b[43mt_outputs\u001b[49m\u001b[43m,\u001b[49m\u001b[43m \u001b[49m\u001b[38;5;241;43m*\u001b[39;49m\u001b[43margs\u001b[49m\u001b[43m,\u001b[49m\u001b[43m \u001b[49m\u001b[38;5;241;43m*\u001b[39;49m\u001b[38;5;241;43m*\u001b[39;49m\u001b[43mkwargs\u001b[49m\n\u001b[1;32m    825\u001b[0m \u001b[43m    \u001b[49m\u001b[43m)\u001b[49m  \u001b[38;5;66;03m# Calls into the C++ engine to run the backward pass\u001b[39;00m\n\u001b[1;32m    826\u001b[0m \u001b[38;5;28;01mfinally\u001b[39;00m:\n\u001b[1;32m    827\u001b[0m     \u001b[38;5;28;01mif\u001b[39;00m attach_logging_hooks:\n",
      "\u001b[0;31mRuntimeError\u001b[0m: Trying to backward through the graph a second time (or directly access saved tensors after they have already been freed). Saved intermediate values of the graph are freed when you call .backward() or autograd.grad(). Specify retain_graph=True if you need to backward through the graph a second time or if you need to access saved tensors after calling backward."
     ]
    }
   ],
   "source": [
    "model = languageModel(vocab_size,  384,6, 6,  con_l=block_size\n",
    "    )\n",
    "m = model.to(device)\n",
    "# print the number of parameters in the model\n",
    "#print(sum(p.numel() for p in m.parameters())/1e6, 'M parameters')\n",
    "print(next(m.parameters()).is_cuda)\n",
    "# create a PyTorch optimizer\n",
    "optimizer = torch.optim.AdamW(model.parameters(), lr=3e-4)\n",
    "\n",
    "for iter in range(max_iters):\n",
    "\n",
    "    # every once in a while evaluate the loss on train and val sets\n",
    "    if iter % eval_interval == 0 or iter == max_iters - 1:\n",
    "        losses = estimate_loss(model)\n",
    "        print(f\"step {iter}: train loss {losses['train']:.4f}, val loss {losses['val']:.4f}\")\n",
    "\n",
    "    # sample a batch of data\n",
    "    xb, yb = get_batch('train')\n",
    "\n",
    "    # evaluate the loss\n",
    "    logits, loss = model(xb, yb)\n",
    "    #B, T, C = logits.shape\n",
    "    #logits = logits.view(B*T, C)\n",
    "    #targets = yb.view(B*T)\n",
    "    #loss = F.cross_entropy(logits, targets)\n",
    "    optimizer.zero_grad(set_to_none=True)\n",
    "    loss.backward()\n",
    "    optimizer.step()\n",
    "\n",
    "# generate from the model\n",
    "context = torch.zeros((1, 1), dtype=torch.long, device=device)\n",
    "print(decode(m.generate(context, max_length=500)[0].tolist()))\n",
    "#open('more.txt', 'w').write(decode(m.generate(context, max_new_tokens=10000)[0].tolist()))"
   ]
  },
  {
   "cell_type": "code",
   "execution_count": null,
   "metadata": {},
   "outputs": [
    {
     "name": "stdout",
     "output_type": "stream",
     "text": [
      "No fused RMSNorm\n"
     ]
    },
    {
     "ename": "AttributeError",
     "evalue": "Can't get attribute 'args' on <module '__main__'>",
     "output_type": "error",
     "traceback": [
      "\u001b[0;31m---------------------------------------------------------------------------\u001b[0m",
      "\u001b[0;31mAttributeError\u001b[0m                            Traceback (most recent call last)",
      "Cell \u001b[0;32mIn[19], line 3\u001b[0m\n\u001b[1;32m      1\u001b[0m model \u001b[38;5;241m=\u001b[39m languageModel(vocab_size,  \u001b[38;5;241m384\u001b[39m,\u001b[38;5;241m6\u001b[39m, \u001b[38;5;241m6\u001b[39m,  con_l\u001b[38;5;241m=\u001b[39mblock_size\n\u001b[1;32m      2\u001b[0m     )\u001b[38;5;241m.\u001b[39mto(device)\n\u001b[0;32m----> 3\u001b[0m model\u001b[38;5;241m.\u001b[39mload_state_dict(\u001b[43mtorch\u001b[49m\u001b[38;5;241;43m.\u001b[39;49m\u001b[43mload\u001b[49m\u001b[43m(\u001b[49m\u001b[38;5;124;43m\"\u001b[39;49m\u001b[38;5;124;43mshake_spear.pth\u001b[39;49m\u001b[38;5;124;43m\"\u001b[39;49m\u001b[43m,\u001b[49m\u001b[43m \u001b[49m\u001b[43mweights_only\u001b[49m\u001b[38;5;241;43m=\u001b[39;49m\u001b[38;5;28;43;01mFalse\u001b[39;49;00m\u001b[43m)\u001b[49m)\n",
      "File \u001b[0;32m~/.local/lib/python3.10/site-packages/torch/serialization.py:1471\u001b[0m, in \u001b[0;36mload\u001b[0;34m(f, map_location, pickle_module, weights_only, mmap, **pickle_load_args)\u001b[0m\n\u001b[1;32m   1469\u001b[0m             \u001b[38;5;28;01mexcept\u001b[39;00m pickle\u001b[38;5;241m.\u001b[39mUnpicklingError \u001b[38;5;28;01mas\u001b[39;00m e:\n\u001b[1;32m   1470\u001b[0m                 \u001b[38;5;28;01mraise\u001b[39;00m pickle\u001b[38;5;241m.\u001b[39mUnpicklingError(_get_wo_message(\u001b[38;5;28mstr\u001b[39m(e))) \u001b[38;5;28;01mfrom\u001b[39;00m \u001b[38;5;28mNone\u001b[39m\n\u001b[0;32m-> 1471\u001b[0m         \u001b[38;5;28;01mreturn\u001b[39;00m \u001b[43m_load\u001b[49m\u001b[43m(\u001b[49m\n\u001b[1;32m   1472\u001b[0m \u001b[43m            \u001b[49m\u001b[43mopened_zipfile\u001b[49m\u001b[43m,\u001b[49m\n\u001b[1;32m   1473\u001b[0m \u001b[43m            \u001b[49m\u001b[43mmap_location\u001b[49m\u001b[43m,\u001b[49m\n\u001b[1;32m   1474\u001b[0m \u001b[43m            \u001b[49m\u001b[43mpickle_module\u001b[49m\u001b[43m,\u001b[49m\n\u001b[1;32m   1475\u001b[0m \u001b[43m            \u001b[49m\u001b[43moverall_storage\u001b[49m\u001b[38;5;241;43m=\u001b[39;49m\u001b[43moverall_storage\u001b[49m\u001b[43m,\u001b[49m\n\u001b[1;32m   1476\u001b[0m \u001b[43m            \u001b[49m\u001b[38;5;241;43m*\u001b[39;49m\u001b[38;5;241;43m*\u001b[39;49m\u001b[43mpickle_load_args\u001b[49m\u001b[43m,\u001b[49m\n\u001b[1;32m   1477\u001b[0m \u001b[43m        \u001b[49m\u001b[43m)\u001b[49m\n\u001b[1;32m   1478\u001b[0m \u001b[38;5;28;01mif\u001b[39;00m mmap:\n\u001b[1;32m   1479\u001b[0m     f_name \u001b[38;5;241m=\u001b[39m \u001b[38;5;124m\"\u001b[39m\u001b[38;5;124m\"\u001b[39m \u001b[38;5;28;01mif\u001b[39;00m \u001b[38;5;129;01mnot\u001b[39;00m \u001b[38;5;28misinstance\u001b[39m(f, \u001b[38;5;28mstr\u001b[39m) \u001b[38;5;28;01melse\u001b[39;00m \u001b[38;5;124mf\u001b[39m\u001b[38;5;124m\"\u001b[39m\u001b[38;5;132;01m{\u001b[39;00mf\u001b[38;5;132;01m}\u001b[39;00m\u001b[38;5;124m, \u001b[39m\u001b[38;5;124m\"\u001b[39m\n",
      "File \u001b[0;32m~/.local/lib/python3.10/site-packages/torch/serialization.py:1964\u001b[0m, in \u001b[0;36m_load\u001b[0;34m(zip_file, map_location, pickle_module, pickle_file, overall_storage, **pickle_load_args)\u001b[0m\n\u001b[1;32m   1962\u001b[0m \u001b[38;5;28;01mglobal\u001b[39;00m _serialization_tls\n\u001b[1;32m   1963\u001b[0m _serialization_tls\u001b[38;5;241m.\u001b[39mmap_location \u001b[38;5;241m=\u001b[39m map_location\n\u001b[0;32m-> 1964\u001b[0m result \u001b[38;5;241m=\u001b[39m \u001b[43munpickler\u001b[49m\u001b[38;5;241;43m.\u001b[39;49m\u001b[43mload\u001b[49m\u001b[43m(\u001b[49m\u001b[43m)\u001b[49m\n\u001b[1;32m   1965\u001b[0m _serialization_tls\u001b[38;5;241m.\u001b[39mmap_location \u001b[38;5;241m=\u001b[39m \u001b[38;5;28;01mNone\u001b[39;00m\n\u001b[1;32m   1967\u001b[0m torch\u001b[38;5;241m.\u001b[39m_utils\u001b[38;5;241m.\u001b[39m_validate_loaded_sparse_tensors()\n",
      "File \u001b[0;32m~/.local/lib/python3.10/site-packages/torch/serialization.py:1953\u001b[0m, in \u001b[0;36m_load.<locals>.UnpicklerWrapper.find_class\u001b[0;34m(self, mod_name, name)\u001b[0m\n\u001b[1;32m   1951\u001b[0m         \u001b[38;5;28;01mpass\u001b[39;00m\n\u001b[1;32m   1952\u001b[0m mod_name \u001b[38;5;241m=\u001b[39m load_module_mapping\u001b[38;5;241m.\u001b[39mget(mod_name, mod_name)\n\u001b[0;32m-> 1953\u001b[0m \u001b[38;5;28;01mreturn\u001b[39;00m \u001b[38;5;28;43msuper\u001b[39;49m\u001b[43m(\u001b[49m\u001b[43m)\u001b[49m\u001b[38;5;241;43m.\u001b[39;49m\u001b[43mfind_class\u001b[49m\u001b[43m(\u001b[49m\u001b[43mmod_name\u001b[49m\u001b[43m,\u001b[49m\u001b[43m \u001b[49m\u001b[43mname\u001b[49m\u001b[43m)\u001b[49m\n",
      "\u001b[0;31mAttributeError\u001b[0m: Can't get attribute 'args' on <module '__main__'>"
     ]
    }
   ],
   "source": [
    "model = languageModel(vocab_size,  384,6, 6,  con_l=block_size\n",
    "    ).to(device)\n",
    "model.load_state_dict(torch.load(\"shake_spear.pth\", weights_only=False))"
   ]
  },
  {
   "cell_type": "code",
   "execution_count": null,
   "metadata": {},
   "outputs": [],
   "source": [
    "def count_parameters(model):\n",
    "    return sum(p.numel() for p in model.parameters() if p.requires_grad)\n",
    "\n",
    "\n",
    "print(count_parameters(m))"
   ]
  },
  {
   "cell_type": "code",
   "execution_count": null,
   "metadata": {},
   "outputs": [],
   "source": [
    "print(decode(context[0].tolist()))\n",
    "print(\"===========================\")\n",
    "print(decode(m.generate(context, max_length=500)[0].tolist()))"
   ]
  },
  {
   "cell_type": "code",
   "execution_count": null,
   "metadata": {},
   "outputs": [],
   "source": [
    "sinp = \"wherefore art thou\"\n",
    "sinp = torch.tensor(encode(sinp)).unsqueeze(0).to(device)\n",
    "print(decode(m.generate(sinp, max_length=500)[0].tolist()))"
   ]
  }
 ],
 "metadata": {
  "kernelspec": {
   "display_name": "Python 3",
   "language": "python",
   "name": "python3"
  },
  "language_info": {
   "codemirror_mode": {
    "name": "ipython",
    "version": 3
   },
   "file_extension": ".py",
   "mimetype": "text/x-python",
   "name": "python",
   "nbconvert_exporter": "python",
   "pygments_lexer": "ipython3",
   "version": "3.10.12"
  }
 },
 "nbformat": 4,
 "nbformat_minor": 2
}
