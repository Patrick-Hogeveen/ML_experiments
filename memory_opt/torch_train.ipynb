{
 "cells": [
  {
   "cell_type": "code",
   "execution_count": 1,
   "metadata": {},
   "outputs": [],
   "source": [
    "import torch\n",
    "from torchvision import models\n",
    "from pickle import dump\n",
    "\n",
    "model = models.vit_l_16(weights='DEFAULT').cuda()\n",
    "#optimizer = torch.optim.Adam(model.parameters())"
   ]
  },
  {
   "cell_type": "code",
   "execution_count": 2,
   "metadata": {},
   "outputs": [],
   "source": [
    "IMAGE_SIZE = 224\n",
    "\n",
    "optimizer_dict = {p: torch.optim.Adam([p], foreach=False) for p in model.parameters()}\n",
    "\n",
    "def optimizer_hook(parameter) -> None:\n",
    "  optimizer_dict[parameter].step()\n",
    "  optimizer_dict[parameter].zero_grad()\n",
    "\n",
    "for p in model.parameters():\n",
    "  p.register_post_accumulate_grad_hook(optimizer_hook)\n",
    "\n",
    "def train(model):\n",
    "  fake_image = torch.rand(1, 3, IMAGE_SIZE, IMAGE_SIZE).cuda()\n",
    "\n",
    "  loss = model.forward(fake_image)\n",
    "  loss.sum().backward()\n"
   ]
  },
  {
   "cell_type": "code",
   "execution_count": 3,
   "metadata": {},
   "outputs": [],
   "source": [
    "#del optimizer\n",
    "\n",
    "# tell CUDA to start recording memory allocations\n",
    "torch.cuda.memory._record_memory_history(enabled='all')\n",
    "\n",
    "# train 3 steps\n",
    "for _ in range(3):\n",
    "  train(model)\n",
    "\n",
    "# save a snapshot of the memory allocations\n",
    "s = torch.cuda.memory._snapshot()\n",
    "with open(f\"snapshot.pickle\", \"wb\") as f:\n",
    "    dump(s, f)\n",
    "\n",
    "# tell CUDA to stop recording memory allocations now\n",
    "torch.cuda.memory._record_memory_history(enabled=None)"
   ]
  }
 ],
 "metadata": {
  "kernelspec": {
   "display_name": "Python 3",
   "language": "python",
   "name": "python3"
  },
  "language_info": {
   "codemirror_mode": {
    "name": "ipython",
    "version": 3
   },
   "file_extension": ".py",
   "mimetype": "text/x-python",
   "name": "python",
   "nbconvert_exporter": "python",
   "pygments_lexer": "ipython3",
   "version": "3.10.12"
  }
 },
 "nbformat": 4,
 "nbformat_minor": 2
}
